{
 "cells": [
  {
   "cell_type": "code",
   "execution_count": 1,
   "id": "1af0a4ec-4ee2-44ec-a687-33f937298993",
   "metadata": {},
   "outputs": [],
   "source": [
    "# introduction to dictionaries"
   ]
  },
  {
   "cell_type": "code",
   "execution_count": 3,
   "id": "c61df956-8b38-47cd-b4f1-19fe170346bb",
   "metadata": {},
   "outputs": [],
   "source": [
    "#define: A Dictionary is combination of key, value pairs. it classified as a mutuable datatypes. define dictionary ={ } curly bracket"
   ]
  },
  {
   "cell_type": "code",
   "execution_count": 4,
   "id": "783869af-1635-4c89-b388-30449eb3801b",
   "metadata": {},
   "outputs": [],
   "source": [
    "# i want to design a alien game"
   ]
  },
  {
   "cell_type": "code",
   "execution_count": 5,
   "id": "0ff00cf8-4913-49a5-be9a-63eba0b44f74",
   "metadata": {},
   "outputs": [],
   "source": [
    "alien={'color':'green', 'points':5}"
   ]
  },
  {
   "cell_type": "code",
   "execution_count": 6,
   "id": "1d87d10c-f1e6-451f-8d31-8989e4b0fcac",
   "metadata": {},
   "outputs": [
    {
     "name": "stdout",
     "output_type": "stream",
     "text": [
      "{'color': 'green', 'points': 5}\n"
     ]
    }
   ],
   "source": [
    "print(alien)"
   ]
  },
  {
   "cell_type": "code",
   "execution_count": null,
   "id": "f091fbab-4ecb-4f1c-b714-00ef822bb889",
   "metadata": {},
   "outputs": [],
   "source": []
  },
  {
   "cell_type": "code",
   "execution_count": 7,
   "id": "33fd80a5-d6d2-4271-b50f-667012c86423",
   "metadata": {},
   "outputs": [],
   "source": [
    "# i want to add the start_position of the alien "
   ]
  },
  {
   "cell_type": "code",
   "execution_count": 9,
   "id": "f4e7dd16-a4e1-4603-8898-8343583636d1",
   "metadata": {},
   "outputs": [],
   "source": [
    "alien[\"start_poistion\"]=\"level\""
   ]
  },
  {
   "cell_type": "code",
   "execution_count": 10,
   "id": "30d390ec-33ae-4e0c-8e1f-d0ec05992f33",
   "metadata": {},
   "outputs": [
    {
     "name": "stdout",
     "output_type": "stream",
     "text": [
      "{'color': 'green', 'points': 5, 'start_poistion': 'level'}\n"
     ]
    }
   ],
   "source": [
    "print(alien)"
   ]
  },
  {
   "cell_type": "code",
   "execution_count": 11,
   "id": "c2c40432-032c-4d5c-9cf4-299b5a0c07b8",
   "metadata": {},
   "outputs": [],
   "source": [
    "# in the dictionary key will be act as indexes"
   ]
  },
  {
   "cell_type": "code",
   "execution_count": 12,
   "id": "3f49e2d5-c4fc-42f2-90c3-b570096f92c3",
   "metadata": {},
   "outputs": [],
   "source": [
    "#req: i want to know the color of the alien"
   ]
  },
  {
   "cell_type": "code",
   "execution_count": 13,
   "id": "bfe5add1-cfb2-4027-8a12-daa9cbe326de",
   "metadata": {},
   "outputs": [
    {
     "name": "stdout",
     "output_type": "stream",
     "text": [
      "green\n"
     ]
    }
   ],
   "source": [
    "print(alien['color'])"
   ]
  },
  {
   "cell_type": "code",
   "execution_count": 14,
   "id": "29708514-4fb3-4305-94a9-4b6274c8a68c",
   "metadata": {},
   "outputs": [],
   "source": [
    "alien['color']='red'"
   ]
  },
  {
   "cell_type": "code",
   "execution_count": 15,
   "id": "7b15cfa3-c639-4807-9bea-8aaf185ef06c",
   "metadata": {},
   "outputs": [
    {
     "name": "stdout",
     "output_type": "stream",
     "text": [
      "alien\n"
     ]
    }
   ],
   "source": [
    "print('alien')"
   ]
  },
  {
   "cell_type": "raw",
   "id": "d0730e8c-400d-4190-ba98-b061f8227812",
   "metadata": {},
   "source": []
  },
  {
   "cell_type": "code",
   "execution_count": 16,
   "id": "009821b5-3121-4104-9664-9b9bee165c66",
   "metadata": {},
   "outputs": [
    {
     "name": "stdout",
     "output_type": "stream",
     "text": [
      "{'color': 'red', 'points': 5, 'start_poistion': 'level'}\n"
     ]
    }
   ],
   "source": [
    "print(alien)"
   ]
  },
  {
   "cell_type": "code",
   "execution_count": 17,
   "id": "5827df71-6ca4-4199-86f0-b4484e923897",
   "metadata": {},
   "outputs": [],
   "source": [
    "#req: i want to create the facebook user account "
   ]
  },
  {
   "cell_type": "code",
   "execution_count": 18,
   "id": "0ecaf712-d2ef-404c-930e-28af92ede288",
   "metadata": {},
   "outputs": [],
   "source": [
    "user_account={'firstname':'code','lastname':'training', 'username':'codetraining','dob':'01-01-2025','pwd':'54321'}"
   ]
  },
  {
   "cell_type": "code",
   "execution_count": 19,
   "id": "6b7cac8e-57be-4479-b570-ac5016569e3a",
   "metadata": {},
   "outputs": [
    {
     "name": "stdout",
     "output_type": "stream",
     "text": [
      "{'firstname': 'code', 'lastname': 'training', 'username': 'codetraining', 'dob': '01-01-2025', 'pwd': '54321'}\n"
     ]
    }
   ],
   "source": [
    "print(user_account)"
   ]
  },
  {
   "cell_type": "code",
   "execution_count": null,
   "id": "76d49636-81d8-4529-97e9-975f989cc384",
   "metadata": {},
   "outputs": [],
   "source": []
  },
  {
   "cell_type": "code",
   "execution_count": 20,
   "id": "890d5b6e-4293-48bc-8288-2c5e58239ee8",
   "metadata": {},
   "outputs": [],
   "source": [
    "#how to delete the keyvalue pairs"
   ]
  },
  {
   "cell_type": "code",
   "execution_count": 21,
   "id": "8189fe82-2fa6-457d-86ed-cfa4e3a08aab",
   "metadata": {},
   "outputs": [],
   "source": [
    "#req : i want to delete the lastname\n"
   ]
  },
  {
   "cell_type": "code",
   "execution_count": 22,
   "id": "1548c5c3-bb94-4fe2-b1ec-5bc5004b7a49",
   "metadata": {},
   "outputs": [],
   "source": [
    "del user_account['lastname']"
   ]
  },
  {
   "cell_type": "raw",
   "id": "df642de0-6c8d-43b0-97de-b2b2f998e8eb",
   "metadata": {},
   "source": []
  },
  {
   "cell_type": "code",
   "execution_count": 24,
   "id": "1f4f41da-1ec9-44cb-b282-12260834c216",
   "metadata": {},
   "outputs": [
    {
     "name": "stdout",
     "output_type": "stream",
     "text": [
      "{'firstname': 'code', 'username': 'codetraining', 'dob': '01-01-2025', 'pwd': '54321'}\n"
     ]
    }
   ],
   "source": [
    "print(user_account)"
   ]
  },
  {
   "cell_type": "code",
   "execution_count": null,
   "id": "a249cfc3-5b96-480c-80a8-22247ef81a5a",
   "metadata": {},
   "outputs": [],
   "source": []
  },
  {
   "cell_type": "code",
   "execution_count": 25,
   "id": "20c8b08a-3fb5-4d57-aae4-77dcb425fd48",
   "metadata": {},
   "outputs": [],
   "source": [
    "#intoduction to looping statement"
   ]
  },
  {
   "cell_type": "code",
   "execution_count": 26,
   "id": "b78589e9-2399-4f3c-9d27-2d220fbbf33c",
   "metadata": {},
   "outputs": [],
   "source": [
    "student=['dhruv','akash','amit','noor','prakash']"
   ]
  },
  {
   "cell_type": "code",
   "execution_count": 27,
   "id": "fa725222-ca65-437e-9458-a72da55f8f15",
   "metadata": {},
   "outputs": [
    {
     "name": "stdout",
     "output_type": "stream",
     "text": [
      "['dhruv', 'akash', 'amit', 'noor', 'prakash']\n"
     ]
    }
   ],
   "source": [
    "print(student)"
   ]
  },
  {
   "cell_type": "raw",
   "id": "f455008a-b00b-439f-a761-0be79f657d8e",
   "metadata": {},
   "source": []
  },
  {
   "cell_type": "code",
   "execution_count": 28,
   "id": "169d0ffd-2b7f-467a-b92d-2c75111cd0fb",
   "metadata": {},
   "outputs": [
    {
     "name": "stdout",
     "output_type": "stream",
     "text": [
      "keep it up the good work,Dhruv\n"
     ]
    }
   ],
   "source": [
    "print(f\"keep it up the good work,{student[0].title()}\")"
   ]
  },
  {
   "cell_type": "code",
   "execution_count": null,
   "id": "5a51337f-59e5-4b59-9c92-8fdb95fddecf",
   "metadata": {},
   "outputs": [],
   "source": []
  },
  {
   "cell_type": "code",
   "execution_count": 29,
   "id": "db63e925-ef80-4bd6-82f4-57dbd20ac6b8",
   "metadata": {},
   "outputs": [
    {
     "name": "stdout",
     "output_type": "stream",
     "text": [
      "keep it up the good work,Dhruv\n",
      "keep it up the good work,Akash\n",
      "keep it up the good work,Amit\n",
      "keep it up the good work,Noor\n",
      "keep it up the good work,Prakash\n"
     ]
    }
   ],
   "source": [
    "for x in student:\n",
    "    print(f\"keep it up the good work,{x.title()}\")"
   ]
  },
  {
   "cell_type": "code",
   "execution_count": null,
   "id": "995a5dbe-ed18-4ba1-add8-3727d56b6585",
   "metadata": {},
   "outputs": [],
   "source": []
  },
  {
   "cell_type": "code",
   "execution_count": null,
   "id": "305eb0c0-503a-4c1c-8aa2-1a4fec1b2100",
   "metadata": {},
   "outputs": [],
   "source": []
  },
  {
   "cell_type": "code",
   "execution_count": null,
   "id": "c6117178-b33a-44ba-82a1-902cafdd6ce3",
   "metadata": {},
   "outputs": [],
   "source": []
  }
 ],
 "metadata": {
  "kernelspec": {
   "display_name": "Python 3 (ipykernel)",
   "language": "python",
   "name": "python3"
  },
  "language_info": {
   "codemirror_mode": {
    "name": "ipython",
    "version": 3
   },
   "file_extension": ".py",
   "mimetype": "text/x-python",
   "name": "python",
   "nbconvert_exporter": "python",
   "pygments_lexer": "ipython3",
   "version": "3.12.2"
  }
 },
 "nbformat": 4,
 "nbformat_minor": 5
}
