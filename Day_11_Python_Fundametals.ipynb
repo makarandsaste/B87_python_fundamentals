{
 "cells": [
  {
   "cell_type": "code",
   "execution_count": null,
   "id": "1e4a7e6a-ad1b-4533-98c9-0270fe639aff",
   "metadata": {},
   "outputs": [],
   "source": [
    "introduction to python class"
   ]
  },
  {
   "cell_type": "code",
   "execution_count": null,
   "id": "659342b1-88f0-4f48-8626-3012b1f8ef55",
   "metadata": {},
   "outputs": [],
   "source": [
    "class ==========> class is high level blue print of the program\n",
    "\n",
    "Method =========> a function written inside the class is called as a method\n",
    "\n",
    "attribute ========> a variable writte inside a class is called as attributes\n",
    "\n",
    "objects/ instance ===========> is an approch by using which we can be able to acess the class method\n",
    "\n",
    "self ======> self is temp placeholder for an object\n",
    "\n",
    "init=======> it a special method /magical mehtod\n"
   ]
  },
  {
   "cell_type": "code",
   "execution_count": 2,
   "id": "ecef20ed-6bcf-4b6f-b896-790b2b1544f2",
   "metadata": {},
   "outputs": [],
   "source": [
    "#class example : req: design a dog class with its functionalities"
   ]
  },
  {
   "cell_type": "code",
   "execution_count": 21,
   "id": "1c091760-2eb9-4124-b21b-3b2cf7776259",
   "metadata": {},
   "outputs": [],
   "source": [
    "class Dog:                 #this class declartion\n",
    "    \"\"\"a simple attempt to model the dog\"\"\"\n",
    "    def __init__(self,name,age):    # this the method\n",
    "        self.name=name    #these are attributes\n",
    "        self.age=age\n",
    "\n",
    "    def sit(self):\n",
    "        \"\"\" simulate a dog sitting in response to command\"\"\"\n",
    "        print(F\"{self.name} is now sitting\")\n",
    "\n",
    "    def roll_over(self):\n",
    "        \"\"\" simulate rolling over in response to the command\"\"\"\n",
    "        print(f\"{self.name} is rooling over\")\n",
    "        "
   ]
  },
  {
   "cell_type": "code",
   "execution_count": 22,
   "id": "1c520ca7-e161-4f69-b7b6-fc5adabf966c",
   "metadata": {},
   "outputs": [],
   "source": [
    "my_dog =Dog('bruno',6)"
   ]
  },
  {
   "cell_type": "code",
   "execution_count": 23,
   "id": "2b9e784a-b1a2-4a69-b169-6a0500d1db56",
   "metadata": {},
   "outputs": [
    {
     "name": "stdout",
     "output_type": "stream",
     "text": [
      "bruno is now sitting\n"
     ]
    }
   ],
   "source": [
    "my_dog.sit()"
   ]
  },
  {
   "cell_type": "code",
   "execution_count": null,
   "id": "ef4264a7-7991-4c94-90fc-d000327b1885",
   "metadata": {},
   "outputs": [],
   "source": [
    "\n"
   ]
  },
  {
   "cell_type": "code",
   "execution_count": null,
   "id": "f56d0bf0-80af-44ad-968d-1fc331634b7d",
   "metadata": {},
   "outputs": [],
   "source": []
  },
  {
   "cell_type": "code",
   "execution_count": null,
   "id": "027e7c91-a7c0-4574-8ee8-ee2ccdc139a2",
   "metadata": {},
   "outputs": [],
   "source": []
  },
  {
   "cell_type": "code",
   "execution_count": 58,
   "id": "5de0f107-a485-4bd2-9004-0ff63dfa3f66",
   "metadata": {},
   "outputs": [],
   "source": [
    "class Car:\n",
    "    # a simple class to represnt the car \n",
    "    def __init__(self,make,model,year):\n",
    "        self.make = make\n",
    "        self.model =model\n",
    "        self.year=year\n",
    "        self.odometer_reading=0   #default value\n",
    "    def get_desciriptive_name(self):\n",
    "        #return a neately formmated descriptive name\n",
    "        return f\"{self.year} {self.make} {self.model}\".title()\n",
    "\n",
    "    def read_odometer(self):\n",
    "        #print a stsement showng a car mileage.\n",
    "        print(f\"this car has {self.odometer_reading} km on it.\")\n",
    "    def update_odometer(self,km):\n",
    "        #set the odometer to the given value. reject the change if it tries to roll back the mileage.\n",
    "        if km>= self.odometer_reading:\n",
    "            self.odometer_reading=km\n",
    "        else:\n",
    "            print(\"you cant roll back on odometer\")\n",
    "            "
   ]
  },
  {
   "cell_type": "raw",
   "id": "8c8f50bd-e326-4f9d-9954-986d413c9389",
   "metadata": {},
   "source": []
  },
  {
   "cell_type": "code",
   "execution_count": 59,
   "id": "dd9dc145-7294-4d93-8f58-dbc29b6f90ea",
   "metadata": {},
   "outputs": [],
   "source": [
    "my_car = Car('toyota', 'corolla', '2020')\n",
    "             "
   ]
  },
  {
   "cell_type": "raw",
   "id": "f71af0ee-0219-44fd-b974-98291c8a809d",
   "metadata": {},
   "source": [
    "\n"
   ]
  },
  {
   "cell_type": "code",
   "execution_count": 60,
   "id": "1e3d89a3-a834-455d-9e24-8e1235e44ceb",
   "metadata": {},
   "outputs": [
    {
     "name": "stdout",
     "output_type": "stream",
     "text": [
      "2020 Toyota Corolla\n"
     ]
    }
   ],
   "source": [
    "print(my_car.get_desciriptive_name())"
   ]
  },
  {
   "cell_type": "code",
   "execution_count": 61,
   "id": "543e725b-c239-44c5-b80b-ff3690e2dea1",
   "metadata": {},
   "outputs": [
    {
     "name": "stdout",
     "output_type": "stream",
     "text": [
      "this car has 0 km on it.\n"
     ]
    }
   ],
   "source": [
    "my_car.read_odometer()"
   ]
  },
  {
   "cell_type": "code",
   "execution_count": null,
   "id": "55a2d6c0-db9d-4326-a67e-c8bfc4518e4e",
   "metadata": {},
   "outputs": [],
   "source": []
  },
  {
   "cell_type": "code",
   "execution_count": 63,
   "id": "ff7fa682-f83a-46b2-a58a-9e3baff7833e",
   "metadata": {},
   "outputs": [
    {
     "name": "stdout",
     "output_type": "stream",
     "text": [
      "this car has 15000 km on it.\n"
     ]
    }
   ],
   "source": [
    "my_car.update_odometer(15000)\n",
    "my_car.read_odometer()"
   ]
  },
  {
   "cell_type": "code",
   "execution_count": null,
   "id": "9a8593ec-4740-4e52-a4ba-8a38e7c8d080",
   "metadata": {},
   "outputs": [],
   "source": []
  },
  {
   "cell_type": "code",
   "execution_count": null,
   "id": "5eb04115-a953-49c7-ab38-a78a9c8174d2",
   "metadata": {},
   "outputs": [],
   "source": []
  },
  {
   "cell_type": "code",
   "execution_count": null,
   "id": "99533ef9-fe5e-4178-8e04-8e5694e869e9",
   "metadata": {},
   "outputs": [],
   "source": []
  },
  {
   "cell_type": "code",
   "execution_count": null,
   "id": "f32daae3-5d74-415c-9c74-934ed3407bc4",
   "metadata": {},
   "outputs": [],
   "source": []
  },
  {
   "cell_type": "code",
   "execution_count": null,
   "id": "08a977a0-899f-4349-9658-b3bc05a2f3da",
   "metadata": {},
   "outputs": [],
   "source": []
  },
  {
   "cell_type": "code",
   "execution_count": null,
   "id": "4182c9c9-7f4a-4ae7-a997-91b541c1281c",
   "metadata": {},
   "outputs": [],
   "source": []
  },
  {
   "cell_type": "code",
   "execution_count": null,
   "id": "a9f387d5-a417-4a63-83e8-2f876ec4874c",
   "metadata": {},
   "outputs": [],
   "source": []
  },
  {
   "cell_type": "code",
   "execution_count": null,
   "id": "9bf421ce-5763-48ce-95a1-a1c267f5a2ef",
   "metadata": {},
   "outputs": [],
   "source": []
  },
  {
   "cell_type": "code",
   "execution_count": null,
   "id": "668f3d99-b8a8-4f15-a8d6-6063a6dd11df",
   "metadata": {},
   "outputs": [],
   "source": []
  },
  {
   "cell_type": "code",
   "execution_count": null,
   "id": "e17b180b-eeab-42d7-85b2-a86e0fab35b6",
   "metadata": {},
   "outputs": [],
   "source": []
  },
  {
   "cell_type": "code",
   "execution_count": null,
   "id": "67720e3e-24a2-44e0-a140-a77ca5b581d8",
   "metadata": {},
   "outputs": [],
   "source": []
  },
  {
   "cell_type": "code",
   "execution_count": null,
   "id": "a52c0317-2e57-466a-bb4d-e3559fa42978",
   "metadata": {},
   "outputs": [],
   "source": []
  },
  {
   "cell_type": "code",
   "execution_count": null,
   "id": "12e21d2f-f52b-40d0-a68b-7a2d223c596c",
   "metadata": {},
   "outputs": [],
   "source": []
  },
  {
   "cell_type": "code",
   "execution_count": null,
   "id": "3c10233a-7b93-4ecd-a5ac-3889980c534d",
   "metadata": {},
   "outputs": [],
   "source": []
  },
  {
   "cell_type": "code",
   "execution_count": null,
   "id": "ef54cc2e-0137-407c-8d6e-b367d9ac6e22",
   "metadata": {},
   "outputs": [],
   "source": []
  },
  {
   "cell_type": "code",
   "execution_count": null,
   "id": "d9c59431-7915-4969-bbc9-6e51d0f8d822",
   "metadata": {},
   "outputs": [],
   "source": []
  },
  {
   "cell_type": "code",
   "execution_count": null,
   "id": "63e4b9a6-d6c7-4f93-b763-1cd410c3a392",
   "metadata": {},
   "outputs": [],
   "source": []
  },
  {
   "cell_type": "code",
   "execution_count": null,
   "id": "d0fbb371-01cc-4872-8467-066b22b754c6",
   "metadata": {},
   "outputs": [],
   "source": []
  },
  {
   "cell_type": "code",
   "execution_count": null,
   "id": "620202b1-2908-40b3-9e37-652754258838",
   "metadata": {},
   "outputs": [],
   "source": []
  },
  {
   "cell_type": "code",
   "execution_count": null,
   "id": "f2193a58-6de0-43b6-93a7-f1c1d8b49e62",
   "metadata": {},
   "outputs": [],
   "source": []
  },
  {
   "cell_type": "code",
   "execution_count": null,
   "id": "193576a8-988c-4d29-b26f-1036221667b4",
   "metadata": {},
   "outputs": [],
   "source": []
  },
  {
   "cell_type": "code",
   "execution_count": null,
   "id": "b911a9c9-7351-455e-a079-58424a8c63e4",
   "metadata": {},
   "outputs": [],
   "source": []
  },
  {
   "cell_type": "code",
   "execution_count": null,
   "id": "b5fc41b3-9971-4806-9925-bddc734d1598",
   "metadata": {},
   "outputs": [],
   "source": []
  },
  {
   "cell_type": "code",
   "execution_count": null,
   "id": "d8f6c741-2098-4dea-ac81-0618f381cb65",
   "metadata": {},
   "outputs": [],
   "source": []
  },
  {
   "cell_type": "code",
   "execution_count": null,
   "id": "5c220786-8f0a-401e-a1cb-a9a0acc24bd6",
   "metadata": {},
   "outputs": [],
   "source": []
  },
  {
   "cell_type": "code",
   "execution_count": null,
   "id": "4f61ca1d-cb39-4a9e-aa9f-de95427d55e2",
   "metadata": {},
   "outputs": [],
   "source": []
  },
  {
   "cell_type": "code",
   "execution_count": null,
   "id": "5e03e66a-a992-4731-a19e-740851b9647b",
   "metadata": {},
   "outputs": [],
   "source": []
  },
  {
   "cell_type": "code",
   "execution_count": null,
   "id": "cbfb8a93-6ad8-4dc0-868a-df7c08e72faf",
   "metadata": {},
   "outputs": [],
   "source": []
  },
  {
   "cell_type": "code",
   "execution_count": null,
   "id": "ff08815d-7202-479a-9ed6-76ea3db7ab44",
   "metadata": {},
   "outputs": [],
   "source": []
  },
  {
   "cell_type": "code",
   "execution_count": null,
   "id": "2d7a0a60-39ed-47e8-8f8d-231a0adcad6c",
   "metadata": {},
   "outputs": [],
   "source": []
  },
  {
   "cell_type": "code",
   "execution_count": null,
   "id": "c050982e-4906-4936-9255-d64067dc7a8b",
   "metadata": {},
   "outputs": [],
   "source": []
  }
 ],
 "metadata": {
  "kernelspec": {
   "display_name": "Python 3 (ipykernel)",
   "language": "python",
   "name": "python3"
  },
  "language_info": {
   "codemirror_mode": {
    "name": "ipython",
    "version": 3
   },
   "file_extension": ".py",
   "mimetype": "text/x-python",
   "name": "python",
   "nbconvert_exporter": "python",
   "pygments_lexer": "ipython3",
   "version": "3.12.2"
  }
 },
 "nbformat": 4,
 "nbformat_minor": 5
}
