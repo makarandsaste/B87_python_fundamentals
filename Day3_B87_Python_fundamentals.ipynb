{
 "cells": [
  {
   "cell_type": "code",
   "execution_count": 2,
   "id": "edab2ec8-11d2-4add-a726-70dd21fc9c72",
   "metadata": {},
   "outputs": [],
   "source": [
    "#introduction of f string\n",
    "firstname =\"Makarand\"\n",
    "lastname=\"saste\"\n",
    "\n"
   ]
  },
  {
   "cell_type": "code",
   "execution_count": 3,
   "id": "6d3b1285-80c6-40ca-b502-78ce09adbabe",
   "metadata": {},
   "outputs": [],
   "source": [
    "#req: i want to get the full name:\n",
    "fullname=f\"{firstname}{lastname}\""
   ]
  },
  {
   "cell_type": "code",
   "execution_count": 4,
   "id": "0d638596-6454-4540-8688-4431128e6ee0",
   "metadata": {},
   "outputs": [
    {
     "name": "stdout",
     "output_type": "stream",
     "text": [
      "Makarandsaste\n"
     ]
    }
   ],
   "source": [
    "print(fullname)\n"
   ]
  },
  {
   "cell_type": "code",
   "execution_count": 5,
   "id": "ded4f863-5d79-4e46-8b9f-c0a248af8419",
   "metadata": {},
   "outputs": [
    {
     "name": "stdout",
     "output_type": "stream",
     "text": [
      "Makarandsaste\n"
     ]
    }
   ],
   "source": [
    "print(fullname.title())"
   ]
  },
  {
   "cell_type": "code",
   "execution_count": 8,
   "id": "b49fd9fe-f74f-4ffc-8be1-dbeb75dc8b06",
   "metadata": {},
   "outputs": [
    {
     "name": "stdout",
     "output_type": "stream",
     "text": [
      "('keepup the good work', {'Makarandsaste'})\n"
     ]
    }
   ],
   "source": [
    "message=f\"keepup the good work\",{fullname.title()}\n",
    "print(message)"
   ]
  },
  {
   "cell_type": "code",
   "execution_count": null,
   "id": "bc7993ad-0a9d-4db5-b0a3-fdbbd7ef7405",
   "metadata": {},
   "outputs": [],
   "source": []
  },
  {
   "cell_type": "code",
   "execution_count": 9,
   "id": "60979e0d-978a-478b-8b40-ca14483d3ed2",
   "metadata": {},
   "outputs": [],
   "source": [
    "#adding whitespace to string"
   ]
  },
  {
   "cell_type": "raw",
   "id": "621d1684-d339-47fb-88dd-bd5ec9d56dc2",
   "metadata": {},
   "source": []
  },
  {
   "cell_type": "code",
   "execution_count": 10,
   "id": "3f3df7c8-860c-495e-b13d-223acecd1d05",
   "metadata": {},
   "outputs": [
    {
     "name": "stdout",
     "output_type": "stream",
     "text": [
      "favourite Language:Pythoncjavac++swift\n"
     ]
    }
   ],
   "source": [
    "print(\"favourite Language:Pythoncjavac++swift\")"
   ]
  },
  {
   "cell_type": "code",
   "execution_count": 15,
   "id": "f2c961f6-1ae4-4192-b775-92f7d31d4286",
   "metadata": {},
   "outputs": [
    {
     "name": "stdout",
     "output_type": "stream",
     "text": [
      "favourite Language:\n",
      "python\n",
      "c\n",
      "java\n",
      "c++\n",
      "swift\n"
     ]
    }
   ],
   "source": [
    "print(\"favourite Language:\\npython\\nc\\njava\\nc++\\nswift\")    #\\n new line delimiter"
   ]
  },
  {
   "cell_type": "code",
   "execution_count": 18,
   "id": "75e034f7-085d-4673-b8c5-2773a16e8217",
   "metadata": {},
   "outputs": [
    {
     "name": "stdout",
     "output_type": "stream",
     "text": [
      "favourite Language:\t\n",
      "python\n",
      "c\n",
      "java\n",
      "c++\n",
      "swift \n"
     ]
    }
   ],
   "source": [
    "print(\"favourite Language:\\t\\npython\\nc\\njava\\nc++\\nswift \")        #\\t tab delimter"
   ]
  },
  {
   "cell_type": "code",
   "execution_count": 19,
   "id": "ba5b95b2-94f6-4583-896b-085379e904e4",
   "metadata": {},
   "outputs": [],
   "source": [
    "#remove white space between string"
   ]
  },
  {
   "cell_type": "code",
   "execution_count": 22,
   "id": "9505d545-ebd6-4755-aa5f-68fc0933d390",
   "metadata": {},
   "outputs": [
    {
     "name": "stdout",
     "output_type": "stream",
     "text": [
      "  python\n",
      "python\n",
      "python    \n"
     ]
    }
   ],
   "source": [
    "name=\"  python\"\n",
    "name2=\"python\"\n",
    "name3=\"python    \"\n",
    "print(name)\n",
    "print(name2)\n",
    "print(name3)"
   ]
  },
  {
   "cell_type": "markdown",
   "id": "e6ec32f0-98be-4509-8bb1-86c6c867e5f0",
   "metadata": {},
   "source": []
  },
  {
   "cell_type": "code",
   "execution_count": 26,
   "id": "eebf2e48-4d1c-42d6-ab2d-2da69e07f82c",
   "metadata": {},
   "outputs": [
    {
     "name": "stdout",
     "output_type": "stream",
     "text": [
      "  python\n"
     ]
    }
   ],
   "source": [
    "name.lstrip()                   #lstrip() reomve the left side whitespace \n",
    "print(name)"
   ]
  },
  {
   "cell_type": "code",
   "execution_count": 27,
   "id": "61be7c04-2a09-4aee-acd6-a52e545da4f8",
   "metadata": {},
   "outputs": [
    {
     "name": "stdout",
     "output_type": "stream",
     "text": [
      "python    \n"
     ]
    }
   ],
   "source": [
    "name3.rstrip()              #rstrip() remove the right side whitespace\n",
    "print(name3)"
   ]
  },
  {
   "cell_type": "code",
   "execution_count": 28,
   "id": "1a9c2f19-44c0-4664-bf35-ce2e811815d0",
   "metadata": {},
   "outputs": [
    {
     "name": "stdout",
     "output_type": "stream",
     "text": [
      "  python    \n"
     ]
    }
   ],
   "source": [
    "name4=\"  python    \"\n",
    "print(name4)"
   ]
  },
  {
   "cell_type": "code",
   "execution_count": 29,
   "id": "e9f435f9-23c7-48ee-ad93-618edb8f8c8f",
   "metadata": {},
   "outputs": [
    {
     "data": {
      "text/plain": [
       "'python'"
      ]
     },
     "execution_count": 29,
     "metadata": {},
     "output_type": "execute_result"
    }
   ],
   "source": [
    "name4.strip()           #strip() romev the both side whitespace "
   ]
  },
  {
   "cell_type": "code",
   "execution_count": 31,
   "id": "82ff5d8a-1f94-404c-8b2c-4a0155f0fc98",
   "metadata": {},
   "outputs": [
    {
     "name": "stdout",
     "output_type": "stream",
     "text": [
      "The Zen of Python, by Tim Peters\n",
      "\n",
      "Beautiful is better than ugly.\n",
      "Explicit is better than implicit.\n",
      "Simple is better than complex.\n",
      "Complex is better than complicated.\n",
      "Flat is better than nested.\n",
      "Sparse is better than dense.\n",
      "Readability counts.\n",
      "Special cases aren't special enough to break the rules.\n",
      "Although practicality beats purity.\n",
      "Errors should never pass silently.\n",
      "Unless explicitly silenced.\n",
      "In the face of ambiguity, refuse the temptation to guess.\n",
      "There should be one-- and preferably only one --obvious way to do it.\n",
      "Although that way may not be obvious at first unless you're Dutch.\n",
      "Now is better than never.\n",
      "Although never is often better than *right* now.\n",
      "If the implementation is hard to explain, it's a bad idea.\n",
      "If the implementation is easy to explain, it may be a good idea.\n",
      "Namespaces are one honking great idea -- let's do more of those!\n"
     ]
    }
   ],
   "source": [
    "import this"
   ]
  },
  {
   "cell_type": "code",
   "execution_count": null,
   "id": "a545d61b-b204-404d-ae65-0a46e89f2143",
   "metadata": {},
   "outputs": [],
   "source": []
  }
 ],
 "metadata": {
  "kernelspec": {
   "display_name": "Python 3 (ipykernel)",
   "language": "python",
   "name": "python3"
  },
  "language_info": {
   "codemirror_mode": {
    "name": "ipython",
    "version": 3
   },
   "file_extension": ".py",
   "mimetype": "text/x-python",
   "name": "python",
   "nbconvert_exporter": "python",
   "pygments_lexer": "ipython3",
   "version": "3.12.2"
  }
 },
 "nbformat": 4,
 "nbformat_minor": 5
}
