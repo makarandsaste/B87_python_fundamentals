{
 "cells": [
  {
   "cell_type": "code",
   "execution_count": 7,
   "id": "52302c96-c06a-42cc-8d67-88111c748add",
   "metadata": {},
   "outputs": [],
   "source": [
    "def describe_pet(animal_pet,type_name):\n",
    "    \"\"\"describe the info about pet\"\"\"\n",
    "    print(f\"\\n I have a {animal_pet}\" )\n",
    "    print(f\" my {animal_pet}'s name is {type_name}\")"
   ]
  },
  {
   "cell_type": "code",
   "execution_count": 8,
   "id": "90746938-a1f2-4200-b2a7-23024c8f2f0a",
   "metadata": {},
   "outputs": [
    {
     "name": "stdout",
     "output_type": "stream",
     "text": [
      "\n",
      " I have a dog\n",
      " my dog's name is bruno\n"
     ]
    }
   ],
   "source": [
    "describe_pet('dog','bruno')"
   ]
  },
  {
   "cell_type": "code",
   "execution_count": null,
   "id": "c8826c98-079a-429e-9a86-a6b6de9cabdf",
   "metadata": {},
   "outputs": [],
   "source": []
  },
  {
   "cell_type": "code",
   "execution_count": 9,
   "id": "4a4b09ba-c8ae-4767-a7c8-0eda369c90b7",
   "metadata": {},
   "outputs": [
    {
     "ename": "TypeError",
     "evalue": "describe_pet() missing 1 required positional argument: 'type_name'",
     "output_type": "error",
     "traceback": [
      "\u001b[1;31m---------------------------------------------------------------------------\u001b[0m",
      "\u001b[1;31mTypeError\u001b[0m                                 Traceback (most recent call last)",
      "Cell \u001b[1;32mIn[9], line 1\u001b[0m\n\u001b[1;32m----> 1\u001b[0m \u001b[43mdescribe_pet\u001b[49m\u001b[43m(\u001b[49m\u001b[38;5;124;43m'\u001b[39;49m\u001b[38;5;124;43mrex\u001b[39;49m\u001b[38;5;124;43m'\u001b[39;49m\u001b[43m)\u001b[49m\n",
      "\u001b[1;31mTypeError\u001b[0m: describe_pet() missing 1 required positional argument: 'type_name'"
     ]
    }
   ],
   "source": [
    "describe_pet('rex')"
   ]
  },
  {
   "cell_type": "code",
   "execution_count": null,
   "id": "f6660407-b97d-4b6f-9a0c-fd7fc58f050f",
   "metadata": {},
   "outputs": [],
   "source": []
  },
  {
   "cell_type": "code",
   "execution_count": 10,
   "id": "754c9530-67dc-4a02-b16b-c7cfa79d12c4",
   "metadata": {},
   "outputs": [],
   "source": [
    "def describe_pet(pet_name,animal_type='Dog'):\n",
    "    \"\"\"describe the info about pet \"\"\"\n",
    "    print(f\" I have {animal_type}\")\n",
    "    print(f\" my {animal_type}'s name is {pet_name}\")\n",
    "    "
   ]
  },
  {
   "cell_type": "code",
   "execution_count": 11,
   "id": "486aa599-8119-4ba5-9820-6d888f989eb1",
   "metadata": {},
   "outputs": [
    {
     "name": "stdout",
     "output_type": "stream",
     "text": [
      " I have Dog\n",
      " my Dog's name is rex\n"
     ]
    }
   ],
   "source": [
    "describe_pet('rex')"
   ]
  },
  {
   "cell_type": "code",
   "execution_count": null,
   "id": "c5a6faf4-3d82-49f3-98fd-ff3a83859b2b",
   "metadata": {},
   "outputs": [],
   "source": []
  },
  {
   "cell_type": "code",
   "execution_count": 12,
   "id": "0e6c9917-a294-43a2-803a-2d301ec5a34f",
   "metadata": {},
   "outputs": [],
   "source": [
    "#returing a simple value\n",
    "#req: take a first name & last name and return it with a nearby formatted value>\n"
   ]
  },
  {
   "cell_type": "code",
   "execution_count": 16,
   "id": "29720859-31d4-4988-9bb4-6451d0da6af0",
   "metadata": {},
   "outputs": [],
   "source": [
    "def get_formatted_name(f_name,l_name):\n",
    "    \"\"\" return a full name, natelly formatted\"\"\"\n",
    "    f_name=f\"{f_name} {l_name}\"\n",
    "    return f_name.title()"
   ]
  },
  {
   "cell_type": "code",
   "execution_count": 17,
   "id": "78e3b84e-4dff-4626-985a-7cf1a20ffdfb",
   "metadata": {},
   "outputs": [],
   "source": [
    "person= get_formatted_name('sai','kishor')"
   ]
  },
  {
   "cell_type": "raw",
   "id": "f3c96c34-f802-407b-8c9f-f09dfb816681",
   "metadata": {},
   "source": []
  },
  {
   "cell_type": "code",
   "execution_count": 18,
   "id": "4358ce25-9743-473e-ab94-6d72b0c09c98",
   "metadata": {},
   "outputs": [
    {
     "name": "stdout",
     "output_type": "stream",
     "text": [
      "Sai Kishor\n"
     ]
    }
   ],
   "source": [
    "print(person)"
   ]
  },
  {
   "cell_type": "code",
   "execution_count": null,
   "id": "ecf57c2e-7b65-41b3-a875-41ddfd693133",
   "metadata": {},
   "outputs": [],
   "source": []
  },
  {
   "cell_type": "code",
   "execution_count": null,
   "id": "84f60df1-1f82-4dcc-bbd9-a2ca89a13b78",
   "metadata": {},
   "outputs": [],
   "source": []
  },
  {
   "cell_type": "code",
   "execution_count": 19,
   "id": "cd206db2-0618-4b4e-b72e-f67326e827d3",
   "metadata": {},
   "outputs": [],
   "source": [
    "#passing Arbitary no of arguments"
   ]
  },
  {
   "cell_type": "code",
   "execution_count": 22,
   "id": "8f965081-7ba3-43a7-a9a7-32156d584517",
   "metadata": {},
   "outputs": [],
   "source": [
    "def make_pizza(topping):\n",
    "    \"\"\" print the list of topping that has been resuest\"\"\"\n",
    "    print(topping)"
   ]
  },
  {
   "cell_type": "code",
   "execution_count": 23,
   "id": "69562cbe-dcfc-4f5e-8b4b-bf1dfd3faa16",
   "metadata": {},
   "outputs": [
    {
     "name": "stdout",
     "output_type": "stream",
     "text": [
      "olive\n"
     ]
    }
   ],
   "source": [
    "make_pizza('olive')"
   ]
  },
  {
   "cell_type": "code",
   "execution_count": 24,
   "id": "39971d27-00bb-4d3b-a7ce-cc80a6b552d5",
   "metadata": {},
   "outputs": [
    {
     "ename": "TypeError",
     "evalue": "make_pizza() takes 1 positional argument but 2 were given",
     "output_type": "error",
     "traceback": [
      "\u001b[1;31m---------------------------------------------------------------------------\u001b[0m",
      "\u001b[1;31mTypeError\u001b[0m                                 Traceback (most recent call last)",
      "Cell \u001b[1;32mIn[24], line 1\u001b[0m\n\u001b[1;32m----> 1\u001b[0m \u001b[43mmake_pizza\u001b[49m\u001b[43m(\u001b[49m\u001b[38;5;124;43m'\u001b[39;49m\u001b[38;5;124;43molive\u001b[39;49m\u001b[38;5;124;43m'\u001b[39;49m\u001b[43m,\u001b[49m\u001b[38;5;124;43m'\u001b[39;49m\u001b[38;5;124;43monion\u001b[39;49m\u001b[38;5;124;43m'\u001b[39;49m\u001b[43m)\u001b[49m\n",
      "\u001b[1;31mTypeError\u001b[0m: make_pizza() takes 1 positional argument but 2 were given"
     ]
    }
   ],
   "source": [
    "make_pizza('olive','onion')"
   ]
  },
  {
   "cell_type": "code",
   "execution_count": null,
   "id": "5e8897a7-b9ab-44b8-bcf0-8519d71f1f5c",
   "metadata": {},
   "outputs": [],
   "source": []
  },
  {
   "cell_type": "code",
   "execution_count": null,
   "id": "993b8de8-6233-45d2-bb66-ff3313c7dcc6",
   "metadata": {},
   "outputs": [],
   "source": []
  },
  {
   "cell_type": "code",
   "execution_count": 30,
   "id": "b61afefc-ee36-45a6-a7f7-154189e99bb7",
   "metadata": {},
   "outputs": [],
   "source": [
    "def make_pizza(*topping):\n",
    "    \"\"\"print the list of topping the has been request \"\"\"\n",
    "    print(topping)"
   ]
  },
  {
   "cell_type": "code",
   "execution_count": 31,
   "id": "9ba43cdf-e514-4575-927a-963c04caf3f3",
   "metadata": {},
   "outputs": [
    {
     "name": "stdout",
     "output_type": "stream",
     "text": [
      "('olive', 'onion', 'corn')\n"
     ]
    }
   ],
   "source": [
    "make_pizza('olive','onion','corn')"
   ]
  },
  {
   "cell_type": "markdown",
   "id": "5844c0a5-1da0-431e-be30-64b3b393502f",
   "metadata": {},
   "source": []
  },
  {
   "cell_type": "code",
   "execution_count": null,
   "id": "9a446f66-33fb-4856-adb7-041bb9d6a93f",
   "metadata": {},
   "outputs": [],
   "source": []
  },
  {
   "cell_type": "code",
   "execution_count": 37,
   "id": "96b800aa-a8c2-48ec-bade-ee8360f58eb7",
   "metadata": {},
   "outputs": [],
   "source": [
    "def make_pizza(*topping):\n",
    "    \"\"\"summarize the pizza i want to make\"\"\"\n",
    "    print(\"\\n making the pizza with the below thing\")\n",
    "    for a in topping:\n",
    "        print(f\"\\n -{a}\")\n",
    "    "
   ]
  },
  {
   "cell_type": "code",
   "execution_count": 38,
   "id": "4123653b-0371-45c4-aed7-49e09c2a5cc6",
   "metadata": {},
   "outputs": [
    {
     "name": "stdout",
     "output_type": "stream",
     "text": [
      "\n",
      " making the pizza with the below thing\n",
      "\n",
      " -olive\n",
      "\n",
      " -corn\n",
      "\n",
      " -onion\n"
     ]
    }
   ],
   "source": [
    "make_pizza('olive','corn','onion')"
   ]
  },
  {
   "cell_type": "markdown",
   "id": "e7e5cd22-8d3a-40a3-8672-d4ed798ed8d6",
   "metadata": {},
   "source": []
  },
  {
   "cell_type": "code",
   "execution_count": 41,
   "id": "81c62cb5-e2b8-40b3-b345-f550c3c32ba9",
   "metadata": {},
   "outputs": [],
   "source": [
    "def make_pizza(size, *topping):\n",
    "    \"\"\"summarize the pizza i want to make\"\"\"\n",
    "    print(f\"\\n making a {size} inch pizza with the below thing\")\n",
    "    for a in topping:\n",
    "        print(f\"\\n -{a}\")\n",
    "    "
   ]
  },
  {
   "cell_type": "code",
   "execution_count": 42,
   "id": "44093242-ea3d-4b79-8ef7-97d09c15cf76",
   "metadata": {},
   "outputs": [
    {
     "name": "stdout",
     "output_type": "stream",
     "text": [
      "\n",
      " making a 24 inch pizza with the below thing\n",
      "\n",
      " -olive\n",
      "\n",
      " -onion\n",
      "\n",
      " -corn\n"
     ]
    }
   ],
   "source": [
    "make_pizza(24,'olive','onion','corn')"
   ]
  },
  {
   "cell_type": "markdown",
   "id": "b84a0f10-120d-4f95-b87f-f7bcb6245a00",
   "metadata": {},
   "source": []
  },
  {
   "cell_type": "code",
   "execution_count": null,
   "id": "959d35cc-2bc1-4bbb-a66e-4d72f27a719b",
   "metadata": {},
   "outputs": [],
   "source": []
  },
  {
   "cell_type": "code",
   "execution_count": null,
   "id": "8d2b6065-d0ac-47f7-8da8-416c6062c2ef",
   "metadata": {},
   "outputs": [],
   "source": []
  },
  {
   "cell_type": "code",
   "execution_count": null,
   "id": "0feaed49-b43a-4455-be23-5b082f448a9d",
   "metadata": {},
   "outputs": [],
   "source": []
  },
  {
   "cell_type": "code",
   "execution_count": null,
   "id": "a791a83a-f10f-40bb-a4da-e494afbc8a4e",
   "metadata": {},
   "outputs": [],
   "source": []
  },
  {
   "cell_type": "code",
   "execution_count": null,
   "id": "9a3cf90c-673c-4d12-9275-ae190ef95f2f",
   "metadata": {},
   "outputs": [],
   "source": []
  },
  {
   "cell_type": "code",
   "execution_count": null,
   "id": "52a2052c-7316-42b8-94fd-91e50b9c2a6b",
   "metadata": {},
   "outputs": [],
   "source": []
  },
  {
   "cell_type": "code",
   "execution_count": null,
   "id": "4a4cedd9-704f-4fd8-9b9a-fab01c331353",
   "metadata": {},
   "outputs": [],
   "source": []
  },
  {
   "cell_type": "code",
   "execution_count": null,
   "id": "68e7acc8-10a0-4eeb-b02e-b48618c10546",
   "metadata": {},
   "outputs": [],
   "source": []
  },
  {
   "cell_type": "code",
   "execution_count": null,
   "id": "2f3e889e-eff4-4337-9f27-98f08231e600",
   "metadata": {},
   "outputs": [],
   "source": []
  },
  {
   "cell_type": "code",
   "execution_count": null,
   "id": "c277d00d-f960-4d33-a568-7beff154bfca",
   "metadata": {},
   "outputs": [],
   "source": []
  },
  {
   "cell_type": "code",
   "execution_count": null,
   "id": "5f4833ad-ce4d-4df3-87e3-30f13604d89b",
   "metadata": {},
   "outputs": [],
   "source": []
  }
 ],
 "metadata": {
  "kernelspec": {
   "display_name": "Python 3 (ipykernel)",
   "language": "python",
   "name": "python3"
  },
  "language_info": {
   "codemirror_mode": {
    "name": "ipython",
    "version": 3
   },
   "file_extension": ".py",
   "mimetype": "text/x-python",
   "name": "python",
   "nbconvert_exporter": "python",
   "pygments_lexer": "ipython3",
   "version": "3.12.2"
  }
 },
 "nbformat": 4,
 "nbformat_minor": 5
}
