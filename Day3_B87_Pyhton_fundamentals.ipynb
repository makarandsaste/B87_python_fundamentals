{
 "cells": [
  {
   "cell_type": "code",
   "execution_count": 2,
   "id": "2fc0392a-3c15-4fa1-9940-9bedad1707d4",
   "metadata": {},
   "outputs": [],
   "source": [
    "#introduction to list of datatypes\n",
    "\n",
    "#defination : list is collection of items defined in particular order\n",
    "# [] using ths bracket list datatypes defined \n"
   ]
  },
  {
   "cell_type": "code",
   "execution_count": 3,
   "id": "65b0de4e-51cb-484d-a73f-13d93e96a758",
   "metadata": {},
   "outputs": [
    {
     "name": "stdout",
     "output_type": "stream",
     "text": [
      "['ajit', 'ashwini', 'asma', 'bhujan', 'david']\n"
     ]
    }
   ],
   "source": [
    "student=['ajit','ashwini','asma','bhujan','david']\n",
    "print(student)\n"
   ]
  },
  {
   "cell_type": "code",
   "execution_count": 4,
   "id": "28c86e4b-ed19-4eab-a94e-e31fcae680ba",
   "metadata": {},
   "outputs": [
    {
     "name": "stdout",
     "output_type": "stream",
     "text": [
      "ashwini\n"
     ]
    }
   ],
   "source": [
    "# i want to access ashwini name in the output.......\n",
    "print(student[1])"
   ]
  },
  {
   "cell_type": "code",
   "execution_count": 5,
   "id": "a6bf4b60-3354-42a2-ae46-94158436d79b",
   "metadata": {},
   "outputs": [
    {
     "name": "stdout",
     "output_type": "stream",
     "text": [
      "Ashwini\n"
     ]
    }
   ],
   "source": [
    "print(student[1].title())"
   ]
  },
  {
   "cell_type": "code",
   "execution_count": 7,
   "id": "39b11648-7555-4af1-ad29-ba623865713a",
   "metadata": {},
   "outputs": [
    {
     "name": "stdout",
     "output_type": "stream",
     "text": [
      "Bhujan\n"
     ]
    }
   ],
   "source": [
    "#i want to access the bhuvan name in the output........\n",
    "print(student[3].title())"
   ]
  },
  {
   "cell_type": "code",
   "execution_count": 8,
   "id": "c4765f96-73c2-4fe8-a38a-672ea0d11289",
   "metadata": {},
   "outputs": [],
   "source": [
    "#add the new element the list\n",
    "#modify the element in the list\n",
    "#delete the element in the list"
   ]
  },
  {
   "cell_type": "code",
   "execution_count": 9,
   "id": "6c9a2afd-9fe4-422a-a3cc-8d0085921fdf",
   "metadata": {},
   "outputs": [],
   "source": [
    "#add the elelment in the list\n",
    "student.append('sundar')"
   ]
  },
  {
   "cell_type": "raw",
   "id": "407a65c9-5ee6-4861-9181-6ac1490c5bcf",
   "metadata": {},
   "source": []
  },
  {
   "cell_type": "code",
   "execution_count": 10,
   "id": "955fa431-ed08-419d-babf-1d419fedb59a",
   "metadata": {},
   "outputs": [
    {
     "name": "stdout",
     "output_type": "stream",
     "text": [
      "['ajit', 'ashwini', 'asma', 'bhujan', 'david', 'sundar']\n"
     ]
    }
   ],
   "source": [
    "print(student)"
   ]
  },
  {
   "cell_type": "code",
   "execution_count": 11,
   "id": "38f60571-e58a-47c7-903e-9d2464661033",
   "metadata": {},
   "outputs": [],
   "source": [
    "#i want the add the element on the 2nd position"
   ]
  },
  {
   "cell_type": "raw",
   "id": "565a7dea-c7f5-4eee-a2ef-2142be62e49f",
   "metadata": {},
   "source": []
  },
  {
   "cell_type": "code",
   "execution_count": 12,
   "id": "cfec333a-5ad2-44fa-9adc-daccd5baff81",
   "metadata": {},
   "outputs": [],
   "source": [
    "student.insert(2,\"kalam\")"
   ]
  },
  {
   "cell_type": "code",
   "execution_count": 13,
   "id": "6c980add-9eae-40d0-b092-4896fcbea7e5",
   "metadata": {},
   "outputs": [
    {
     "name": "stdout",
     "output_type": "stream",
     "text": [
      "['ajit', 'ashwini', 'kalam', 'asma', 'bhujan', 'david', 'sundar']\n"
     ]
    }
   ],
   "source": [
    "print(student)"
   ]
  },
  {
   "cell_type": "raw",
   "id": "ed7d52b2-b8f0-4b3b-a9c5-4bad3df7d328",
   "metadata": {},
   "source": []
  },
  {
   "cell_type": "code",
   "execution_count": 15,
   "id": "19657456-7f79-474a-9e7c-28442142dc55",
   "metadata": {},
   "outputs": [],
   "source": [
    "#i want to modify the 3rd posotion element with mayur.....\n",
    "student[3]=\"mayur\""
   ]
  },
  {
   "cell_type": "code",
   "execution_count": 16,
   "id": "c9a42895-8e4d-4af2-83be-a652c49a517f",
   "metadata": {},
   "outputs": [
    {
     "name": "stdout",
     "output_type": "stream",
     "text": [
      "['ajit', 'ashwini', 'kalam', 'mayur', 'bhujan', 'david', 'sundar']\n"
     ]
    }
   ],
   "source": [
    "print(student)"
   ]
  },
  {
   "cell_type": "code",
   "execution_count": 17,
   "id": "794b69bb-ff82-40ba-8888-9f7507182bd1",
   "metadata": {},
   "outputs": [],
   "source": [
    "# i want to delete the 1st element of list\n",
    "del student[1]"
   ]
  },
  {
   "cell_type": "code",
   "execution_count": 18,
   "id": "0e2af993-effe-4b93-87cc-1c76b66a7321",
   "metadata": {},
   "outputs": [
    {
     "name": "stdout",
     "output_type": "stream",
     "text": [
      "['ajit', 'kalam', 'mayur', 'bhujan', 'david', 'sundar']\n"
     ]
    }
   ],
   "source": [
    "print(student)"
   ]
  },
  {
   "cell_type": "code",
   "execution_count": null,
   "id": "fa4ef309-55b3-45c7-8db5-1e5135c8cd5a",
   "metadata": {},
   "outputs": [],
   "source": []
  }
 ],
 "metadata": {
  "kernelspec": {
   "display_name": "Python 3 (ipykernel)",
   "language": "python",
   "name": "python3"
  },
  "language_info": {
   "codemirror_mode": {
    "name": "ipython",
    "version": 3
   },
   "file_extension": ".py",
   "mimetype": "text/x-python",
   "name": "python",
   "nbconvert_exporter": "python",
   "pygments_lexer": "ipython3",
   "version": "3.12.2"
  }
 },
 "nbformat": 4,
 "nbformat_minor": 5
}
