{
 "cells": [
  {
   "cell_type": "code",
   "execution_count": 1,
   "id": "20a8b5a4-57ff-4c7c-9f52-c40071b7d724",
   "metadata": {},
   "outputs": [],
   "source": [
    "# req : i want the list in alphabetical order\n",
    "\n",
    "#approaches 1. temp approach-------> sorted method\n",
    "            #2. perment apporoach-------> sort method"
   ]
  },
  {
   "cell_type": "code",
   "execution_count": 3,
   "id": "28ded62d-f2f2-4191-b60e-5b93ff8d4477",
   "metadata": {},
   "outputs": [],
   "source": [
    "student=['maneesh','ashish','apurva','isha','akash','jevan','farhan','prakash']"
   ]
  },
  {
   "cell_type": "code",
   "execution_count": 4,
   "id": "dbb1e2d7-f25b-495c-bb7f-211d21d501b8",
   "metadata": {},
   "outputs": [
    {
     "name": "stdout",
     "output_type": "stream",
     "text": [
      "['maneesh', 'ashish', 'apurva', 'isha', 'akash', 'jevan', 'farhan', 'prakash']\n"
     ]
    }
   ],
   "source": [
    "print(student)"
   ]
  },
  {
   "cell_type": "code",
   "execution_count": 5,
   "id": "279071b4-0185-4a03-9e6a-bd5d4ac26ae1",
   "metadata": {},
   "outputs": [
    {
     "name": "stdout",
     "output_type": "stream",
     "text": [
      "['akash', 'apurva', 'ashish', 'farhan', 'isha', 'jevan', 'maneesh', 'prakash']\n"
     ]
    }
   ],
   "source": [
    "print(sorted(student))"
   ]
  },
  {
   "cell_type": "code",
   "execution_count": 8,
   "id": "8e1e6233-2241-49df-812a-3719d117c1f1",
   "metadata": {},
   "outputs": [
    {
     "name": "stdout",
     "output_type": "stream",
     "text": [
      "None\n"
     ]
    }
   ],
   "source": [
    "print(student.sort())"
   ]
  },
  {
   "cell_type": "code",
   "execution_count": 9,
   "id": "37cbb1aa-1ea4-4b34-87f8-16332792b745",
   "metadata": {},
   "outputs": [
    {
     "name": "stdout",
     "output_type": "stream",
     "text": [
      "['akash', 'apurva', 'ashish', 'farhan', 'isha', 'jevan', 'maneesh', 'prakash']\n"
     ]
    }
   ],
   "source": [
    "print(student)"
   ]
  },
  {
   "cell_type": "code",
   "execution_count": 10,
   "id": "0181b68a-ffde-4496-ae76-5c01c8a0975c",
   "metadata": {},
   "outputs": [
    {
     "data": {
      "text/plain": [
       "8"
      ]
     },
     "execution_count": 10,
     "metadata": {},
     "output_type": "execute_result"
    }
   ],
   "source": [
    "len(student)"
   ]
  },
  {
   "cell_type": "code",
   "execution_count": 11,
   "id": "f29f6efc-50ab-4d77-9a49-7c5b6e5b05f1",
   "metadata": {},
   "outputs": [],
   "source": [
    "student.reverse()"
   ]
  },
  {
   "cell_type": "code",
   "execution_count": 12,
   "id": "69bb52cd-09cb-4897-9bcb-a2a6a8acb59b",
   "metadata": {},
   "outputs": [
    {
     "name": "stdout",
     "output_type": "stream",
     "text": [
      "['prakash', 'maneesh', 'jevan', 'isha', 'farhan', 'ashish', 'apurva', 'akash']\n"
     ]
    }
   ],
   "source": [
    "print(student)"
   ]
  },
  {
   "cell_type": "code",
   "execution_count": null,
   "id": "44c96b3a-acf0-4307-8aff-255b3c303b47",
   "metadata": {},
   "outputs": [],
   "source": []
  },
  {
   "cell_type": "code",
   "execution_count": null,
   "id": "882f91be-d821-42b5-96d4-6fb06b1d3832",
   "metadata": {},
   "outputs": [],
   "source": []
  },
  {
   "cell_type": "code",
   "execution_count": 13,
   "id": "090c231c-46e5-484b-af49-672d1fac1f23",
   "metadata": {},
   "outputs": [],
   "source": [
    "# introduction to slicing"
   ]
  },
  {
   "cell_type": "code",
   "execution_count": 14,
   "id": "930d3001-f19f-4809-8bcc-85b9a967cf8b",
   "metadata": {},
   "outputs": [
    {
     "name": "stdout",
     "output_type": "stream",
     "text": [
      "['prakash', 'maneesh', 'jevan', 'isha', 'farhan', 'ashish', 'apurva', 'akash']\n"
     ]
    }
   ],
   "source": [
    "print(student)"
   ]
  },
  {
   "cell_type": "code",
   "execution_count": 16,
   "id": "91be77fb-9601-4628-8640-588f977e82d8",
   "metadata": {},
   "outputs": [],
   "source": [
    "student.sort()"
   ]
  },
  {
   "cell_type": "code",
   "execution_count": 17,
   "id": "a3a6f6f4-9fbe-4f43-86b0-3f0cb186bf50",
   "metadata": {},
   "outputs": [
    {
     "name": "stdout",
     "output_type": "stream",
     "text": [
      "['akash', 'apurva', 'ashish', 'farhan', 'isha', 'jevan', 'maneesh', 'prakash']\n"
     ]
    }
   ],
   "source": [
    "print(student)"
   ]
  },
  {
   "cell_type": "code",
   "execution_count": null,
   "id": "f3c3f772-d1ef-489b-bcd8-d59eb1fe1b3c",
   "metadata": {},
   "outputs": [],
   "source": []
  },
  {
   "cell_type": "code",
   "execution_count": 18,
   "id": "21594c87-70c9-4278-9d9e-d544ecc815b3",
   "metadata": {},
   "outputs": [
    {
     "name": "stdout",
     "output_type": "stream",
     "text": [
      "['akash', 'apurva']\n"
     ]
    }
   ],
   "source": [
    "print(student[0:2])"
   ]
  },
  {
   "cell_type": "code",
   "execution_count": 19,
   "id": "362cd889-f41e-4be8-a3af-2a1029fb548d",
   "metadata": {},
   "outputs": [
    {
     "name": "stdout",
     "output_type": "stream",
     "text": [
      "['ashish', 'farhan', 'isha']\n"
     ]
    }
   ],
   "source": [
    "print(student[2:5])"
   ]
  },
  {
   "cell_type": "code",
   "execution_count": 22,
   "id": "61e5b390-c557-4be9-844d-27005d554ba7",
   "metadata": {},
   "outputs": [
    {
     "name": "stdout",
     "output_type": "stream",
     "text": [
      "['jevan', 'maneesh', 'prakash']\n"
     ]
    }
   ],
   "source": [
    "print(student[5:8])"
   ]
  },
  {
   "cell_type": "code",
   "execution_count": null,
   "id": "d7c193b1-509f-42b7-af6a-fdee0be31856",
   "metadata": {},
   "outputs": [],
   "source": []
  },
  {
   "cell_type": "code",
   "execution_count": 23,
   "id": "c4e24cfe-1d92-436f-b373-a59075b6bb52",
   "metadata": {},
   "outputs": [
    {
     "name": "stdout",
     "output_type": "stream",
     "text": [
      "['akash', 'ashish', 'isha', 'maneesh']\n"
     ]
    }
   ],
   "source": [
    "print(student[0:8:2])"
   ]
  },
  {
   "cell_type": "code",
   "execution_count": 24,
   "id": "6d0b0c6d-cf1e-4977-855b-368c206e992a",
   "metadata": {},
   "outputs": [
    {
     "name": "stdout",
     "output_type": "stream",
     "text": [
      "['apurva', 'farhan', 'jevan', 'prakash']\n"
     ]
    }
   ],
   "source": [
    "print(student[1:8:2])"
   ]
  },
  {
   "cell_type": "code",
   "execution_count": null,
   "id": "c92b79eb-ba81-4bc7-af74-9cb101ade913",
   "metadata": {},
   "outputs": [],
   "source": []
  },
  {
   "cell_type": "code",
   "execution_count": null,
   "id": "72488c1a-5457-4bda-8280-8e82c0dff02e",
   "metadata": {},
   "outputs": [],
   "source": []
  },
  {
   "cell_type": "code",
   "execution_count": 25,
   "id": "4e835fd8-2b19-4ec5-b1bb-4a25d6604a2b",
   "metadata": {},
   "outputs": [],
   "source": [
    "dimension=(2,50)"
   ]
  },
  {
   "cell_type": "code",
   "execution_count": 26,
   "id": "54d13a29-e138-4150-ba89-3b0bd4923578",
   "metadata": {},
   "outputs": [
    {
     "name": "stdout",
     "output_type": "stream",
     "text": [
      "(2, 50)\n"
     ]
    }
   ],
   "source": [
    "print(dimension)"
   ]
  },
  {
   "cell_type": "code",
   "execution_count": 27,
   "id": "0af5e3f5-072a-4e40-9bf6-033f23b9cc22",
   "metadata": {},
   "outputs": [
    {
     "data": {
      "text/plain": [
       "tuple"
      ]
     },
     "execution_count": 27,
     "metadata": {},
     "output_type": "execute_result"
    }
   ],
   "source": [
    "type(dimension)"
   ]
  },
  {
   "cell_type": "code",
   "execution_count": null,
   "id": "69092a64-d2d0-4d0e-ad02-a33b140c138e",
   "metadata": {},
   "outputs": [],
   "source": []
  }
 ],
 "metadata": {
  "kernelspec": {
   "display_name": "Python 3 (ipykernel)",
   "language": "python",
   "name": "python3"
  },
  "language_info": {
   "codemirror_mode": {
    "name": "ipython",
    "version": 3
   },
   "file_extension": ".py",
   "mimetype": "text/x-python",
   "name": "python",
   "nbconvert_exporter": "python",
   "pygments_lexer": "ipython3",
   "version": "3.12.2"
  }
 },
 "nbformat": 4,
 "nbformat_minor": 5
}
