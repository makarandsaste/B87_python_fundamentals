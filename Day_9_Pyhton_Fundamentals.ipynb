{
 "cells": [
  {
   "cell_type": "code",
   "execution_count": 1,
   "id": "fc020aa8-f28e-4e6c-b00a-72b0654f3a04",
   "metadata": {},
   "outputs": [],
   "source": [
    "#Introduction to Function\n"
   ]
  },
  {
   "cell_type": "code",
   "execution_count": 4,
   "id": "e2d18c42-49d1-4230-90e1-fbc3c3c75768",
   "metadata": {},
   "outputs": [],
   "source": [
    "#def Using this define Function "
   ]
  },
  {
   "cell_type": "code",
   "execution_count": 8,
   "id": "50ef4549-5346-4133-8e47-fc9a9641e8b3",
   "metadata": {},
   "outputs": [],
   "source": [
    "def greet():\n",
    "    \"\"\"this the greet user\"\"\"\n",
    "    print(\"Hello\")\n",
    "    "
   ]
  },
  {
   "cell_type": "code",
   "execution_count": 9,
   "id": "fd597317-d90f-430d-be8a-b362be26f6c8",
   "metadata": {},
   "outputs": [
    {
     "name": "stdout",
     "output_type": "stream",
     "text": [
      "Hello\n"
     ]
    }
   ],
   "source": [
    "greet()"
   ]
  },
  {
   "cell_type": "code",
   "execution_count": 15,
   "id": "550b791c-2e61-4a5f-a874-1c1ff1ab2add",
   "metadata": {},
   "outputs": [],
   "source": [
    "def greet_user():\n",
    "    \"\"\"Display a simple greeter\"\"\"\n",
    "    print(\"Hello\")"
   ]
  },
  {
   "cell_type": "raw",
   "id": "80cba22b-2d9c-4ddd-83c7-95198b08c683",
   "metadata": {},
   "source": []
  },
  {
   "cell_type": "code",
   "execution_count": 16,
   "id": "406bbc47-0466-4958-8051-fee1c6f26c8c",
   "metadata": {},
   "outputs": [
    {
     "name": "stdout",
     "output_type": "stream",
     "text": [
      "Hello\n"
     ]
    }
   ],
   "source": [
    "greet_user()"
   ]
  },
  {
   "cell_type": "code",
   "execution_count": null,
   "id": "716beba5-8b52-4abb-8bd7-4cff79417941",
   "metadata": {},
   "outputs": [],
   "source": []
  },
  {
   "cell_type": "code",
   "execution_count": 13,
   "id": "af244b42-b391-473a-922e-23dec2106263",
   "metadata": {},
   "outputs": [],
   "source": [
    "def greet_user(username):\n",
    "    \"\"\" Display a simple greeter\"\"\"\n",
    "    print(f\"hello,{username.title()}\")"
   ]
  },
  {
   "cell_type": "code",
   "execution_count": 14,
   "id": "e03af73d-0874-4c9a-8033-0b9d0ae8156b",
   "metadata": {},
   "outputs": [
    {
     "name": "stdout",
     "output_type": "stream",
     "text": [
      "hello,Anil\n"
     ]
    }
   ],
   "source": [
    "greet_user('anil')"
   ]
  },
  {
   "cell_type": "code",
   "execution_count": null,
   "id": "9603ccad-90a2-4906-9a0f-055cce3cea5e",
   "metadata": {},
   "outputs": [],
   "source": []
  },
  {
   "cell_type": "code",
   "execution_count": null,
   "id": "84851b6c-4abb-42b4-8a13-321cc30a5561",
   "metadata": {},
   "outputs": [],
   "source": []
  },
  {
   "cell_type": "code",
   "execution_count": null,
   "id": "2d1496cd-a5ec-47b8-ad94-14fbb7d53fb0",
   "metadata": {},
   "outputs": [],
   "source": [
    "# types of arguments:-\n",
    "      #  1. positional Argument\n",
    "      #   2. Keyword Argument\n",
    "      #  3.arbitary Argument\n"
   ]
  },
  {
   "cell_type": "code",
   "execution_count": 17,
   "id": "a961de7e-a02d-4fb6-9c6f-efb9ba24dcfa",
   "metadata": {},
   "outputs": [],
   "source": [
    "# req: Define aa function with name describe_pet Which takes two parameter : pet_name and animal_type\n"
   ]
  },
  {
   "cell_type": "code",
   "execution_count": 22,
   "id": "0b761399-2cd2-4ec6-9233-a18e7fa00729",
   "metadata": {},
   "outputs": [],
   "source": [
    "def describe_pet(animal_type, pet_name):\n",
    "    \"\"\"describe the info about the pet\"\"\"\n",
    "    print(f\"\\n I have a {animal_type}\")\n",
    "    print(f\"my {animal_type}'s name is {pet_name}\")"
   ]
  },
  {
   "cell_type": "code",
   "execution_count": 24,
   "id": "288ecd86-f918-44b6-a87c-13f1e5981671",
   "metadata": {},
   "outputs": [
    {
     "name": "stdout",
     "output_type": "stream",
     "text": [
      "\n",
      " I have a dog\n",
      "my dog's name is bruno\n"
     ]
    }
   ],
   "source": [
    "describe_pet('dog','bruno')                                  #positional argument"
   ]
  },
  {
   "cell_type": "code",
   "execution_count": 25,
   "id": "284c6672-6f2f-4e6e-8abb-9a467abe5736",
   "metadata": {},
   "outputs": [
    {
     "name": "stdout",
     "output_type": "stream",
     "text": [
      "\n",
      " I have a parrot\n",
      "my parrot's name is sweety\n"
     ]
    }
   ],
   "source": [
    "describe_pet(pet_name='sweety', animal_type='parrot')           #keyword argument"
   ]
  },
  {
   "cell_type": "code",
   "execution_count": null,
   "id": "862dd377-a1a5-420e-b4ce-740f95ae6cc1",
   "metadata": {},
   "outputs": [],
   "source": []
  },
  {
   "cell_type": "code",
   "execution_count": null,
   "id": "333d57fa-413c-4256-9cee-7a2296ab33d5",
   "metadata": {},
   "outputs": [],
   "source": []
  },
  {
   "cell_type": "code",
   "execution_count": null,
   "id": "5b686ae4-c013-4306-9631-b1c8c1895cd7",
   "metadata": {},
   "outputs": [],
   "source": []
  }
 ],
 "metadata": {
  "kernelspec": {
   "display_name": "Python 3 (ipykernel)",
   "language": "python",
   "name": "python3"
  },
  "language_info": {
   "codemirror_mode": {
    "name": "ipython",
    "version": 3
   },
   "file_extension": ".py",
   "mimetype": "text/x-python",
   "name": "python",
   "nbconvert_exporter": "python",
   "pygments_lexer": "ipython3",
   "version": "3.12.2"
  }
 },
 "nbformat": 4,
 "nbformat_minor": 5
}
