{
 "cells": [
  {
   "cell_type": "code",
   "execution_count": 5,
   "id": "8947a977-bafb-479f-b5c1-83d5a3baebe3",
   "metadata": {},
   "outputs": [
    {
     "name": "stdout",
     "output_type": "stream",
     "text": [
      "makrand\n"
     ]
    }
   ],
   "source": [
    "#does not allow name space in data types e.g First Name\n",
    "firstname=\"makrand\"  \n",
    "print(firstname)\n"
   ]
  },
  {
   "cell_type": "raw",
   "id": "28cfd643-4742-478c-81be-9261d42e0b48",
   "metadata": {},
   "source": []
  },
  {
   "cell_type": "code",
   "execution_count": 7,
   "id": "0ed09bf5-18fa-4f1a-9923-387c4e95a349",
   "metadata": {},
   "outputs": [
    {
     "name": "stdout",
     "output_type": "stream",
     "text": [
      "Saste\n"
     ]
    }
   ],
   "source": [
    "#does not allow number first in datatypes  e.g 1name\n",
    "name=\"Saste\"\n",
    "print(name)"
   ]
  },
  {
   "cell_type": "code",
   "execution_count": 8,
   "id": "ef0ad953-25ce-43fa-8e4c-a3d58e6d2a9b",
   "metadata": {},
   "outputs": [
    {
     "ename": "TypeError",
     "evalue": "unsupported operand type(s) for @=: 'str' and 'str'",
     "output_type": "error",
     "traceback": [
      "\u001b[1;31m---------------------------------------------------------------------------\u001b[0m",
      "\u001b[1;31mTypeError\u001b[0m                                 Traceback (most recent call last)",
      "Cell \u001b[1;32mIn[8], line 2\u001b[0m\n\u001b[0;32m      1\u001b[0m \u001b[38;5;66;03m#does not aloow special character in dtat types e.g @$%&*\u001b[39;00m\n\u001b[1;32m----> 2\u001b[0m \u001b[43mname\u001b[49m\u001b[38;5;241;43m@\u001b[39;49m\u001b[38;5;241;43m=\u001b[39;49m\u001b[38;5;124;43m\"\u001b[39;49m\u001b[38;5;124;43msaste\u001b[39;49m\u001b[38;5;124;43m\"\u001b[39;49m\n",
      "\u001b[1;31mTypeError\u001b[0m: unsupported operand type(s) for @=: 'str' and 'str'"
     ]
    }
   ],
   "source": [
    "#does not aloow special character in dtat types e.g @$%&*\n",
    "name@=\"saste\"\n"
   ]
  },
  {
   "cell_type": "code",
   "execution_count": 9,
   "id": "efc9b88a-1ee6-4f51-8d8a-51e1e856a4aa",
   "metadata": {},
   "outputs": [
    {
     "name": "stdout",
     "output_type": "stream",
     "text": [
      "makarand saste\n"
     ]
    }
   ],
   "source": [
    "fullname=\"makarand saste\"\n",
    "print(fullname)"
   ]
  },
  {
   "cell_type": "code",
   "execution_count": 11,
   "id": "0079cee0-07bc-4a7b-b2d0-7447148e4450",
   "metadata": {},
   "outputs": [
    {
     "name": "stdout",
     "output_type": "stream",
     "text": [
      "Makarand Saste\n"
     ]
    }
   ],
   "source": [
    "print(fullname.title())"
   ]
  },
  {
   "cell_type": "code",
   "execution_count": 12,
   "id": "24363eb2-9fbd-4f31-ad3c-234a384c3d63",
   "metadata": {},
   "outputs": [
    {
     "name": "stdout",
     "output_type": "stream",
     "text": [
      "MAKARAND SASTE\n"
     ]
    }
   ],
   "source": [
    "print(fullname.upper())"
   ]
  },
  {
   "cell_type": "code",
   "execution_count": 13,
   "id": "8c547c6c-ec38-4dba-af1d-b397c0ce35ff",
   "metadata": {},
   "outputs": [
    {
     "name": "stdout",
     "output_type": "stream",
     "text": [
      "makarand saste\n"
     ]
    }
   ],
   "source": [
    "print(fullname.lower())"
   ]
  },
  {
   "cell_type": "code",
   "execution_count": null,
   "id": "f3ce51d6-3729-4ad4-9ad3-fd37e625442b",
   "metadata": {},
   "outputs": [],
   "source": []
  }
 ],
 "metadata": {
  "kernelspec": {
   "display_name": "Python 3 (ipykernel)",
   "language": "python",
   "name": "python3"
  },
  "language_info": {
   "codemirror_mode": {
    "name": "ipython",
    "version": 3
   },
   "file_extension": ".py",
   "mimetype": "text/x-python",
   "name": "python",
   "nbconvert_exporter": "python",
   "pygments_lexer": "ipython3",
   "version": "3.12.2"
  }
 },
 "nbformat": 4,
 "nbformat_minor": 5
}
